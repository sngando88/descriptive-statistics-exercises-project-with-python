{
    "cells": [
        {
            "cell_type": "markdown",
            "id": "ac622319",
            "metadata": {},
            "source": [
                "# Descriptive statistics problems"
            ]
        },
        {
            "cell_type": "markdown",
            "id": "5e0ab0d5",
            "metadata": {},
            "source": [
                "### Exercise 1\n",
                "\n",
                "We will use NumPy to obtain information to describe statistically.\n",
                "\n",
                "- Generate an array of 100 elements following a normal distribution.\n",
                "- Generate an array of 100 elements following a chi-square distribution with 3 degrees of freedom.\n",
                "- Calculate the main metrics and statistical measures that best describe the two vectors."
            ]
        },
        {
            "cell_type": "code",
            "execution_count": 1,
            "id": "34720ab6",
            "metadata": {},
            "outputs": [
                {
                    "data": {
                        "text/plain": [
                            "array([10.19781225, 11.75163348,  8.97559389, 11.09436231,  9.12397423,\n",
                            "       10.27199018, 10.60493513,  9.94868253, 10.54638485, 10.38621211,\n",
                            "       10.06551073,  9.08709646, 11.10439784, 11.63177316, 10.21495597,\n",
                            "       10.14563458, 10.26667378,  8.10228799,  8.75859417,  9.22649732,\n",
                            "       10.97325165,  9.45043839, 11.25671996, 10.25787356,  8.65027111,\n",
                            "       10.59568021, 10.72845981,  9.35537289, 10.05473778, 10.58988352,\n",
                            "       11.69547266, 12.28834769,  8.54492065,  8.18715274, 10.22399281,\n",
                            "       10.24586502,  8.14794768,  9.73477824, 10.69399158,  8.73308882,\n",
                            "        8.27718158, 11.24302392, 10.71296094,  8.78195998,  8.85242663,\n",
                            "        9.00779399,  9.96604352, 11.47940266, 10.25172905,  9.96899103,\n",
                            "       10.92834178, 10.11248523, 11.35228583, 10.1556348 ,  8.37970892,\n",
                            "        8.49273563,  8.70503989, 10.50405638, 11.12285892, 10.14606781,\n",
                            "       11.48136018,  8.74388763,  8.1339009 ,  8.69606697,  9.32220635,\n",
                            "       10.14928489, 12.07384946, 11.01145001,  9.0424734 ,  6.0875508 ,\n",
                            "       10.74499453, 11.123512  , 11.2531386 , 10.00347315,  8.89229651,\n",
                            "        9.54744956, 11.79844243,  9.25765298,  9.46624946, 11.15315257,\n",
                            "       10.26920958,  9.77326876, 10.73554564,  9.88987959,  8.6696163 ,\n",
                            "       10.83913729,  9.80376507, 10.8198259 , 10.29107406, 10.67015959,\n",
                            "       10.3980127 ,  9.03993019, 10.06675815,  8.95647044,  9.32351583,\n",
                            "        8.4005527 ,  9.02977134,  9.73128456, 10.67413757,  8.96889761])"
                        ]
                    },
                    "execution_count": 1,
                    "metadata": {},
                    "output_type": "execute_result"
                }
            ],
            "source": [
                "# TODO\n",
                "import numpy as np\n",
                "np.random.normal(10,1,100)\n",
                "\n"
            ]
        },
        {
            "cell_type": "code",
            "execution_count": 2,
            "id": "01e52e35",
            "metadata": {},
            "outputs": [
                {
                    "data": {
                        "text/plain": [
                            "array([ 7.1740653 ,  2.10263723,  2.1694699 ,  3.16137284,  4.50119283,\n",
                            "        3.36120777,  2.21728138,  3.3470369 ,  7.79870914,  0.25549252,\n",
                            "        3.64571618,  1.69924435,  4.14635407,  4.951268  ,  1.97983134,\n",
                            "       19.98960509, 10.23155578,  3.43875062,  1.72407799,  1.96469557,\n",
                            "        0.74137601,  1.22729286,  2.3522906 ,  1.06347391,  2.3657686 ,\n",
                            "        3.74008382,  2.04100213,  1.93445854,  4.00427447,  8.74896951,\n",
                            "        3.50818119,  1.26506079,  2.55208842,  4.97267789,  2.8984858 ,\n",
                            "        4.29174128,  1.08522733,  0.81732075,  0.87286886,  4.49764269,\n",
                            "        2.07175812,  0.82562317,  2.48997363,  0.24201669,  0.79352034,\n",
                            "        7.45676512,  3.85349894,  1.53434133, 14.48626553,  3.73621929,\n",
                            "        0.59131789,  1.61853226,  4.35790016,  3.33822917,  0.86517513,\n",
                            "        0.16420144,  0.5835286 ,  6.01987103,  3.48599628,  5.09718046,\n",
                            "        3.42558357,  1.13201716,  1.85532794,  0.2544319 ,  3.12020602,\n",
                            "        2.80486211,  7.97403937,  0.56252993,  2.65672271,  2.38140494,\n",
                            "        2.90043465,  1.61621171,  3.9907341 ,  2.10496168,  4.39993474,\n",
                            "        4.83087493,  0.26504061,  2.30879578,  0.22342414,  4.54357525,\n",
                            "        3.3823714 ,  5.49418109,  0.11186508,  5.14214039,  5.11672383,\n",
                            "       13.87166481,  0.70706889,  3.13528888,  1.96052814,  0.7702969 ,\n",
                            "        1.26385259,  2.7661562 ,  0.99886217,  0.62029058,  1.78318314,\n",
                            "        4.19267327,  6.0680056 ,  1.18191323,  2.10965957,  2.69769667])"
                        ]
                    },
                    "execution_count": 2,
                    "metadata": {},
                    "output_type": "execute_result"
                }
            ],
            "source": [
                "np.random.chisquare(3,100)"
            ]
        },
        {
            "cell_type": "code",
            "execution_count": 3,
            "id": "09bdfc3c",
            "metadata": {},
            "outputs": [
                {
                    "data": {
                        "text/plain": [
                            "array([ 1.15120767,  3.19469211,  1.21333176,  4.02898742,  1.79270394,\n",
                            "        8.21845851,  4.65471796,  0.12902118,  1.85059321,  2.19576464,\n",
                            "        1.13367538,  0.70929493,  0.55784747,  1.30420862,  1.25725717,\n",
                            "        2.4387154 ,  0.67025107,  1.20294382, 12.50237067,  3.5219451 ,\n",
                            "        0.96684488,  2.06058135,  0.82482684,  1.5467624 ,  1.43677863,\n",
                            "        3.68447708,  4.21831344,  4.78928234,  2.48010611,  4.98092988,\n",
                            "        2.28301863,  5.29541008,  1.38310273,  4.32235835,  1.34251776,\n",
                            "        6.2138881 ,  3.76481785,  6.25389577,  2.87114334,  1.68734187,\n",
                            "        5.06064222,  6.30267529,  1.69123303,  1.53255183,  0.47272488,\n",
                            "        0.26729358,  8.15133872,  1.26000782,  2.59886148,  2.99075768,\n",
                            "        0.61476066,  0.616669  ,  1.0378156 ,  1.21328616,  2.07390998,\n",
                            "        6.59530484,  6.40224604,  0.05403408,  4.63596527,  1.3507196 ,\n",
                            "        5.11263069,  9.83761632,  5.44872084,  2.69567911,  5.10609783,\n",
                            "        2.78840537,  3.21212876, 11.51692612,  2.04204033,  4.98876066,\n",
                            "        3.80185984,  2.27245507,  4.01035514,  1.59061977,  7.06730689,\n",
                            "        0.76937294,  3.50623893,  2.76351688,  0.19653148,  2.5866825 ,\n",
                            "        1.97568233,  1.91500452,  2.41100248,  7.88498925,  1.92237746,\n",
                            "        2.58867117,  1.98732815,  3.3492592 ,  1.02341287,  1.2003619 ,\n",
                            "        3.25791578,  2.09414827,  2.24899439,  3.81291349,  1.33760518,\n",
                            "        0.19342702,  1.03062663,  0.91707315,  6.26083935,  4.7978962 ])"
                        ]
                    },
                    "execution_count": 3,
                    "metadata": {},
                    "output_type": "execute_result"
                }
            ],
            "source": [
                "np.random.chisquare(3,100)"
            ]
        },
        {
            "cell_type": "code",
            "execution_count": 4,
            "id": "0f84d1ea",
            "metadata": {},
            "outputs": [
                {
                    "name": "stdout",
                    "output_type": "stream",
                    "text": [
                        "4.26829520192589\n"
                    ]
                }
            ],
            "source": [
                "import statistics as stats \n",
                "chisquare=np.random.chisquare(3,100)\n",
                "normal_distribution=np.random.normal(10,1,100)\n",
                "mode_1=stats.mode(chisquare)\n",
                "print(mode_1)"
            ]
        },
        {
            "cell_type": "code",
            "execution_count": 5,
            "id": "6b91c697",
            "metadata": {},
            "outputs": [
                {
                    "name": "stdout",
                    "output_type": "stream",
                    "text": [
                        "9.909169889597079\n"
                    ]
                }
            ],
            "source": [
                "median_2=stats.median(normal_distribution)\n",
                "print(median_2)"
            ]
        },
        {
            "cell_type": "code",
            "execution_count": 6,
            "id": "f8cf89a8",
            "metadata": {},
            "outputs": [
                {
                    "name": "stdout",
                    "output_type": "stream",
                    "text": [
                        "2.2956914640875086\n"
                    ]
                }
            ],
            "source": [
                "median_1=stats.median(chisquare)\n",
                "print(median_1)"
            ]
        },
        {
            "cell_type": "code",
            "execution_count": 7,
            "id": "be7db8fd",
            "metadata": {},
            "outputs": [
                {
                    "name": "stdout",
                    "output_type": "stream",
                    "text": [
                        "9.90830911573522\n"
                    ]
                }
            ],
            "source": [
                "mean_2=stats.mean(normal_distribution)\n",
                "print(mean_2)"
            ]
        },
        {
            "cell_type": "code",
            "execution_count": 8,
            "id": "badf3945",
            "metadata": {},
            "outputs": [
                {
                    "name": "stdout",
                    "output_type": "stream",
                    "text": [
                        "2.832228212580985\n"
                    ]
                }
            ],
            "source": [
                "mean_1=stats.mean(chisquare)\n",
                "print(mean_1)"
            ]
        },
        {
            "cell_type": "code",
            "execution_count": 9,
            "id": "2703fda0",
            "metadata": {},
            "outputs": [
                {
                    "name": "stdout",
                    "output_type": "stream",
                    "text": [
                        "8.956504313827088\n"
                    ]
                }
            ],
            "source": [
                "mode_2=stats.mode(normal_distribution)\n",
                "print(mode_2)"
            ]
        },
        {
            "cell_type": "code",
            "execution_count": 10,
            "id": "f6e1fee2",
            "metadata": {},
            "outputs": [
                {
                    "name": "stdout",
                    "output_type": "stream",
                    "text": [
                        "5.122953153223217\n"
                    ]
                }
            ],
            "source": [
                "range1=max(normal_distribution)-min(normal_distribution)\n",
                "print(range1)"
            ]
        },
        {
            "cell_type": "code",
            "execution_count": 11,
            "id": "b2ee4b9b",
            "metadata": {},
            "outputs": [
                {
                    "name": "stdout",
                    "output_type": "stream",
                    "text": [
                        "11.290568675087272\n"
                    ]
                }
            ],
            "source": [
                "range_2=max(chisquare)-min(chisquare)\n",
                "print(range_2)"
            ]
        },
        {
            "cell_type": "code",
            "execution_count": 12,
            "id": "cfdc7d67",
            "metadata": {},
            "outputs": [
                {
                    "name": "stdout",
                    "output_type": "stream",
                    "text": [
                        "1.1307950440628438\n"
                    ]
                }
            ],
            "source": [
                "variance1=stats.variance(normal_distribution)\n",
                "print(variance1)"
            ]
        },
        {
            "cell_type": "code",
            "execution_count": 13,
            "id": "c36a730c",
            "metadata": {},
            "outputs": [
                {
                    "name": "stdout",
                    "output_type": "stream",
                    "text": [
                        "4.851310340590474\n"
                    ]
                }
            ],
            "source": [
                "variance2=stats.variance(chisquare)\n",
                "print(variance2)"
            ]
        },
        {
            "cell_type": "code",
            "execution_count": 14,
            "id": "ee22da4e",
            "metadata": {},
            "outputs": [
                {
                    "name": "stdout",
                    "output_type": "stream",
                    "text": [
                        "2.2025690319693667\n"
                    ]
                }
            ],
            "source": [
                "std_1=stats.stdev(chisquare)\n",
                "print(std_1)"
            ]
        },
        {
            "cell_type": "code",
            "execution_count": 15,
            "id": "dfa5a7b9",
            "metadata": {},
            "outputs": [
                {
                    "name": "stdout",
                    "output_type": "stream",
                    "text": [
                        "1.0633884727900917\n"
                    ]
                }
            ],
            "source": [
                "std_2=stats.stdev(normal_distribution)\n",
                "print(std_2)"
            ]
        },
        {
            "cell_type": "code",
            "execution_count": 16,
            "id": "ad9554b8",
            "metadata": {},
            "outputs": [
                {
                    "name": "stdout",
                    "output_type": "stream",
                    "text": [
                        "0.026293642629107664\n"
                    ]
                }
            ],
            "source": [
                "from scipy.stats import skew, kurtosis\n",
                "skew_1=skew(normal_distribution)\n",
                "print(skew_1)"
            ]
        },
        {
            "cell_type": "code",
            "execution_count": 17,
            "id": "612a1065",
            "metadata": {},
            "outputs": [
                {
                    "name": "stdout",
                    "output_type": "stream",
                    "text": [
                        "1.2523448072231766\n"
                    ]
                }
            ],
            "source": [
                "skew_2=skew(chisquare)\n",
                "print(skew_2)"
            ]
        },
        {
            "cell_type": "code",
            "execution_count": 18,
            "id": "65f2de32",
            "metadata": {},
            "outputs": [
                {
                    "name": "stdout",
                    "output_type": "stream",
                    "text": [
                        "-0.49171111710329063\n"
                    ]
                }
            ],
            "source": [
                "kurtosis_1=kurtosis(normal_distribution)\n",
                "print(kurtosis_1)"
            ]
        },
        {
            "cell_type": "code",
            "execution_count": 19,
            "id": "7b252695",
            "metadata": {},
            "outputs": [
                {
                    "name": "stdout",
                    "output_type": "stream",
                    "text": [
                        "1.7130958936516407\n"
                    ]
                }
            ],
            "source": [
                "kurtosis_2=kurtosis(chisquare)\n",
                "print(kurtosis_2)"
            ]
        },
        {
            "cell_type": "markdown",
            "id": "46c70c3d",
            "metadata": {},
            "source": [
                "### Exercise 2\n",
                "\n",
                "Write a Python program to calculate the standard deviation of the following data:\n",
                "\n",
                "```py\n",
                "data = [4, 2, 5, 8, 6]\n",
                "```"
            ]
        },
        {
            "cell_type": "code",
            "execution_count": 23,
            "id": "d590308e",
            "metadata": {},
            "outputs": [
                {
                    "ename": "IndentationError",
                    "evalue": "unindent does not match any outer indentation level (<tokenize>, line 20)",
                    "output_type": "error",
                    "traceback": [
                        "\u001b[0;36m  File \u001b[0;32m<tokenize>:20\u001b[0;36m\u001b[0m\n\u001b[0;31m    mean=mean/float(n)\u001b[0m\n\u001b[0m    ^\u001b[0m\n\u001b[0;31mIndentationError\u001b[0m\u001b[0;31m:\u001b[0m unindent does not match any outer indentation level\n"
                    ]
                }
            ],
            "source": [
                "# TODO\n",
                "import math, sys\n",
                "data = [4, 2, 5, 8, 6]\n",
                "def sd_calc(data):\n",
                "    n=len(data)\n",
                "    if (n<=1):\n",
                "        return 0\n",
                "    mean,sd=avg_calc(data),0.0\n",
                "    for d in data:\n",
                "        sd+=(float(d)-mean)**2\n",
                "    sd = math.sqrt(sd/float(n-1))\n",
                "    return sd\n",
                "\n",
                "def avg_calc(data):\n",
                "    n,mean = len(data),0.0\n",
                "    if (n<=1):\n",
                "        return data[0]\n",
                "    for d in data \n",
                "        mean= mean+float(d)\n",
                "       mean=mean/float(n)\n",
                "    return mean\n",
                "print(f\"sample data: {data}\")\n",
                "print(f\"standard deviation: {sd_calc(data)}\")"
            ]
        },
        {
            "cell_type": "code",
            "execution_count": null,
            "id": "9c059744",
            "metadata": {},
            "outputs": [],
            "source": []
        }
    ],
    "metadata": {
        "interpreter": {
            "hash": "9248718ffe6ce6938b217e69dbcc175ea21f4c6b28a317e96c05334edae734bb"
        },
        "kernelspec": {
            "display_name": "Python 3.9.12 ('ML-BOOTCAMP')",
            "language": "python",
            "name": "python3"
        },
        "language_info": {
            "codemirror_mode": {
                "name": "ipython",
                "version": 3
            },
            "file_extension": ".py",
            "mimetype": "text/x-python",
            "name": "python",
            "nbconvert_exporter": "python",
            "pygments_lexer": "ipython3",
            "version": "3.11.4"
        }
    },
    "nbformat": 4,
    "nbformat_minor": 5
}
